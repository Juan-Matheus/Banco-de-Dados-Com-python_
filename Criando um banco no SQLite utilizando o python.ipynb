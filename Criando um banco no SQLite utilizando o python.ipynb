{
 "cells": [
  {
   "cell_type": "markdown",
   "id": "4915a765",
   "metadata": {},
   "source": [
    "### TAREFAS"
   ]
  },
  {
   "cell_type": "markdown",
   "id": "0c80ef3c",
   "metadata": {},
   "source": [
    "1- Crie um banco no SQLite utilizando o python, e salve nesse banco os dados do SCDE e os dados do cadastro."
   ]
  },
  {
   "cell_type": "code",
   "execution_count": 188,
   "id": "182a4af4",
   "metadata": {},
   "outputs": [],
   "source": [
    "import pandas as pd"
   ]
  },
  {
   "cell_type": "code",
   "execution_count": 189,
   "id": "1fdd26b8",
   "metadata": {},
   "outputs": [
    {
     "data": {
      "text/html": [
       "<div>\n",
       "<style scoped>\n",
       "    .dataframe tbody tr th:only-of-type {\n",
       "        vertical-align: middle;\n",
       "    }\n",
       "\n",
       "    .dataframe tbody tr th {\n",
       "        vertical-align: top;\n",
       "    }\n",
       "\n",
       "    .dataframe thead th {\n",
       "        text-align: right;\n",
       "    }\n",
       "</style>\n",
       "<table border=\"1\" class=\"dataframe\">\n",
       "  <thead>\n",
       "    <tr style=\"text-align: right;\">\n",
       "      <th></th>\n",
       "      <th>Agente</th>\n",
       "      <th>Ponto / Grupo</th>\n",
       "      <th>Data</th>\n",
       "      <th>Hora</th>\n",
       "      <th>Ativa_C_kWh</th>\n",
       "      <th>Ativa_G_kWh</th>\n",
       "      <th>Reativa_C_kVArh</th>\n",
       "      <th>Reativa_G_kVArh</th>\n",
       "      <th>Qualidade</th>\n",
       "      <th>Origem</th>\n",
       "    </tr>\n",
       "  </thead>\n",
       "  <tbody>\n",
       "    <tr>\n",
       "      <th>0</th>\n",
       "      <td>-</td>\n",
       "      <td>SPAJIVENTR-01 (L)</td>\n",
       "      <td>01/11/2021</td>\n",
       "      <td>1</td>\n",
       "      <td>4.958,80</td>\n",
       "      <td>0</td>\n",
       "      <td>1.324,40</td>\n",
       "      <td>0</td>\n",
       "      <td>Completo</td>\n",
       "      <td>COLETA DIÁRIA</td>\n",
       "    </tr>\n",
       "    <tr>\n",
       "      <th>1</th>\n",
       "      <td>-</td>\n",
       "      <td>SPAJIVENTR-01 (L)</td>\n",
       "      <td>01/11/2021</td>\n",
       "      <td>2</td>\n",
       "      <td>4.720,80</td>\n",
       "      <td>0</td>\n",
       "      <td>1.190,00</td>\n",
       "      <td>0</td>\n",
       "      <td>Completo</td>\n",
       "      <td>COLETA DIÁRIA</td>\n",
       "    </tr>\n",
       "    <tr>\n",
       "      <th>2</th>\n",
       "      <td>-</td>\n",
       "      <td>SPAJIVENTR-01 (L)</td>\n",
       "      <td>01/11/2021</td>\n",
       "      <td>3</td>\n",
       "      <td>4.597,60</td>\n",
       "      <td>0</td>\n",
       "      <td>1.111,60</td>\n",
       "      <td>0</td>\n",
       "      <td>Completo</td>\n",
       "      <td>COLETA DIÁRIA</td>\n",
       "    </tr>\n",
       "    <tr>\n",
       "      <th>3</th>\n",
       "      <td>-</td>\n",
       "      <td>SPAJIVENTR-01 (L)</td>\n",
       "      <td>01/11/2021</td>\n",
       "      <td>4</td>\n",
       "      <td>4.986,80</td>\n",
       "      <td>0</td>\n",
       "      <td>1.338,40</td>\n",
       "      <td>0</td>\n",
       "      <td>Completo</td>\n",
       "      <td>COLETA DIÁRIA</td>\n",
       "    </tr>\n",
       "    <tr>\n",
       "      <th>4</th>\n",
       "      <td>-</td>\n",
       "      <td>SPAJIVENTR-01 (L)</td>\n",
       "      <td>01/11/2021</td>\n",
       "      <td>5</td>\n",
       "      <td>5.336,80</td>\n",
       "      <td>0</td>\n",
       "      <td>1.526,00</td>\n",
       "      <td>0</td>\n",
       "      <td>Completo</td>\n",
       "      <td>COLETA DIÁRIA</td>\n",
       "    </tr>\n",
       "  </tbody>\n",
       "</table>\n",
       "</div>"
      ],
      "text/plain": [
       "  Agente      Ponto / Grupo        Data  Hora Ativa_C_kWh Ativa_G_kWh  \\\n",
       "0      -  SPAJIVENTR-01 (L)  01/11/2021     1    4.958,80           0   \n",
       "1      -  SPAJIVENTR-01 (L)  01/11/2021     2    4.720,80           0   \n",
       "2      -  SPAJIVENTR-01 (L)  01/11/2021     3    4.597,60           0   \n",
       "3      -  SPAJIVENTR-01 (L)  01/11/2021     4    4.986,80           0   \n",
       "4      -  SPAJIVENTR-01 (L)  01/11/2021     5    5.336,80           0   \n",
       "\n",
       "  Reativa_C_kVArh Reativa_G_kVArh Qualidade         Origem  \n",
       "0        1.324,40               0  Completo  COLETA DIÁRIA  \n",
       "1        1.190,00               0  Completo  COLETA DIÁRIA  \n",
       "2        1.111,60               0  Completo  COLETA DIÁRIA  \n",
       "3        1.338,40               0  Completo  COLETA DIÁRIA  \n",
       "4        1.526,00               0  Completo  COLETA DIÁRIA  "
      ]
     },
     "execution_count": 189,
     "metadata": {},
     "output_type": "execute_result"
    }
   ],
   "source": [
    "df_scde = pd.read_csv('C:/Users/home/Downloads/case_comerc/scde_unidade_steste.csv', sep=';', encoding='latin1')\n",
    "df_scde.head()"
   ]
  },
  {
   "cell_type": "code",
   "execution_count": 190,
   "id": "3dff54ad",
   "metadata": {},
   "outputs": [
    {
     "data": {
      "text/html": [
       "<div>\n",
       "<style scoped>\n",
       "    .dataframe tbody tr th:only-of-type {\n",
       "        vertical-align: middle;\n",
       "    }\n",
       "\n",
       "    .dataframe tbody tr th {\n",
       "        vertical-align: top;\n",
       "    }\n",
       "\n",
       "    .dataframe thead th {\n",
       "        text-align: right;\n",
       "    }\n",
       "</style>\n",
       "<table border=\"1\" class=\"dataframe\">\n",
       "  <thead>\n",
       "    <tr style=\"text-align: right;\">\n",
       "      <th></th>\n",
       "      <th>COD</th>\n",
       "      <th>Unidades</th>\n",
       "      <th>Ponto_SCDE</th>\n",
       "    </tr>\n",
       "  </thead>\n",
       "  <tbody>\n",
       "    <tr>\n",
       "      <th>0</th>\n",
       "      <td>000001-02</td>\n",
       "      <td>Unidade1</td>\n",
       "      <td>SPAJIVENTR-01 (L)</td>\n",
       "    </tr>\n",
       "    <tr>\n",
       "      <th>1</th>\n",
       "      <td>000108-15</td>\n",
       "      <td>Unidade6</td>\n",
       "      <td>PBITCPENTR101 (L)</td>\n",
       "    </tr>\n",
       "    <tr>\n",
       "      <th>2</th>\n",
       "      <td>000108-17</td>\n",
       "      <td>Unidade7</td>\n",
       "      <td>RSCMB1ENTR101 (L)</td>\n",
       "    </tr>\n",
       "    <tr>\n",
       "      <th>3</th>\n",
       "      <td>001168-06</td>\n",
       "      <td>Unidade4</td>\n",
       "      <td>SPHAEBENTR101 (L)</td>\n",
       "    </tr>\n",
       "    <tr>\n",
       "      <th>4</th>\n",
       "      <td>001168-08</td>\n",
       "      <td>Unidade5</td>\n",
       "      <td>SPHAVMENTR101 (L)</td>\n",
       "    </tr>\n",
       "  </tbody>\n",
       "</table>\n",
       "</div>"
      ],
      "text/plain": [
       "         COD  Unidades         Ponto_SCDE\n",
       "0  000001-02  Unidade1  SPAJIVENTR-01 (L)\n",
       "1  000108-15  Unidade6  PBITCPENTR101 (L)\n",
       "2  000108-17  Unidade7  RSCMB1ENTR101 (L)\n",
       "3  001168-06  Unidade4  SPHAEBENTR101 (L)\n",
       "4  001168-08  Unidade5  SPHAVMENTR101 (L)"
      ]
     },
     "execution_count": 190,
     "metadata": {},
     "output_type": "execute_result"
    }
   ],
   "source": [
    "df_cadastro_1 = pd.read_excel('C:/Users/home/Downloads/case_comerc/Cadastro_teste.xlsx', sheet_name='cadastro1')\n",
    "df_cadastro_1.head()"
   ]
  },
  {
   "cell_type": "code",
   "execution_count": 191,
   "id": "7a3a7f76",
   "metadata": {},
   "outputs": [
    {
     "data": {
      "text/html": [
       "<div>\n",
       "<style scoped>\n",
       "    .dataframe tbody tr th:only-of-type {\n",
       "        vertical-align: middle;\n",
       "    }\n",
       "\n",
       "    .dataframe tbody tr th {\n",
       "        vertical-align: top;\n",
       "    }\n",
       "\n",
       "    .dataframe thead th {\n",
       "        text-align: right;\n",
       "    }\n",
       "</style>\n",
       "<table border=\"1\" class=\"dataframe\">\n",
       "  <thead>\n",
       "    <tr style=\"text-align: right;\">\n",
       "      <th></th>\n",
       "      <th>COD</th>\n",
       "      <th>Grupo Econômico</th>\n",
       "      <th>Célula gestor</th>\n",
       "      <th>Fornecedor</th>\n",
       "      <th>Distribuidora</th>\n",
       "    </tr>\n",
       "  </thead>\n",
       "  <tbody>\n",
       "    <tr>\n",
       "      <th>0</th>\n",
       "      <td>000001-02</td>\n",
       "      <td>GRUPO1</td>\n",
       "      <td>celula.cps01@comerc.com.br                    ...</td>\n",
       "      <td>Fornecedor3</td>\n",
       "      <td>CPFL PAULISTA</td>\n",
       "    </tr>\n",
       "    <tr>\n",
       "      <th>1</th>\n",
       "      <td>000108-15</td>\n",
       "      <td>GRUPO4</td>\n",
       "      <td>celula.cgc01@comerc.com.br                    ...</td>\n",
       "      <td>Fornecedor1</td>\n",
       "      <td>ENERGISA PARAIBA</td>\n",
       "    </tr>\n",
       "    <tr>\n",
       "      <th>2</th>\n",
       "      <td>000108-17</td>\n",
       "      <td>GRUPO4</td>\n",
       "      <td>celula.cgc01@comerc.com.br                    ...</td>\n",
       "      <td>Fornecedor3</td>\n",
       "      <td>RGE SUL</td>\n",
       "    </tr>\n",
       "    <tr>\n",
       "      <th>3</th>\n",
       "      <td>001168-06</td>\n",
       "      <td>GRUPO2</td>\n",
       "      <td>celula.SP02@comerc.com.br                     ...</td>\n",
       "      <td>Fornecedor3</td>\n",
       "      <td>ENEL SP</td>\n",
       "    </tr>\n",
       "    <tr>\n",
       "      <th>4</th>\n",
       "      <td>001168-08</td>\n",
       "      <td>GRUPO2</td>\n",
       "      <td>celula.SP02@comerc.com.br                     ...</td>\n",
       "      <td>Fornecedor3</td>\n",
       "      <td>ENEL SP</td>\n",
       "    </tr>\n",
       "  </tbody>\n",
       "</table>\n",
       "</div>"
      ],
      "text/plain": [
       "         COD Grupo Econômico  \\\n",
       "0  000001-02          GRUPO1   \n",
       "1  000108-15          GRUPO4   \n",
       "2  000108-17          GRUPO4   \n",
       "3  001168-06          GRUPO2   \n",
       "4  001168-08          GRUPO2   \n",
       "\n",
       "                                       Célula gestor   Fornecedor  \\\n",
       "0  celula.cps01@comerc.com.br                    ...  Fornecedor3   \n",
       "1  celula.cgc01@comerc.com.br                    ...  Fornecedor1   \n",
       "2  celula.cgc01@comerc.com.br                    ...  Fornecedor3   \n",
       "3  celula.SP02@comerc.com.br                     ...  Fornecedor3   \n",
       "4  celula.SP02@comerc.com.br                     ...  Fornecedor3   \n",
       "\n",
       "                    Distribuidora  \n",
       "0            CPFL PAULISTA         \n",
       "1            ENERGISA PARAIBA      \n",
       "2            RGE SUL               \n",
       "3  ENEL SP                         \n",
       "4  ENEL SP                         "
      ]
     },
     "execution_count": 191,
     "metadata": {},
     "output_type": "execute_result"
    }
   ],
   "source": [
    "df_cadastro_2 = pd.read_excel('C:/Users/home/Downloads/case_comerc/Cadastro_teste.xlsx', sheet_name='cadastro2')\n",
    "df_cadastro_2.head()"
   ]
  },
  {
   "cell_type": "code",
   "execution_count": 192,
   "id": "712e6c90",
   "metadata": {},
   "outputs": [],
   "source": [
    "import sqlite3"
   ]
  },
  {
   "cell_type": "code",
   "execution_count": 193,
   "id": "d61a6fef",
   "metadata": {},
   "outputs": [],
   "source": [
    "conn = sqlite3.connect('banco_teste_infos.db')"
   ]
  },
  {
   "cell_type": "code",
   "execution_count": 194,
   "id": "c0ea9401",
   "metadata": {},
   "outputs": [
    {
     "name": "stderr",
     "output_type": "stream",
     "text": [
      "C:\\Users\\home\\anaconda3\\lib\\site-packages\\pandas\\core\\generic.py:2779: UserWarning: The spaces in these column names will not be changed. In pandas versions < 0.14, spaces were converted to underscores.\n",
      "  sql.to_sql(\n"
     ]
    }
   ],
   "source": [
    "df_scde.to_sql(name='scde', con=conn, index=False, if_exists='replace')\n",
    "df_cadastro_1.to_sql(name='cadastro1', con=conn, index=False, if_exists='replace')\n",
    "df_cadastro_2.to_sql(name='cadastro2', con=conn, index=False, if_exists='replace')"
   ]
  },
  {
   "cell_type": "code",
   "execution_count": 195,
   "id": "15fb4099",
   "metadata": {},
   "outputs": [
    {
     "name": "stdout",
     "output_type": "stream",
     "text": [
      "cadastro_unificado\n",
      "scde\n",
      "cadastro1\n",
      "cadastro2\n"
     ]
    }
   ],
   "source": [
    "# Criando um cursor\n",
    "cursor = conn.cursor()\n",
    "\n",
    "# Executar a consulta para obter as tabelas\n",
    "cursor.execute(\"SELECT name FROM sqlite_master WHERE type='table';\")\n",
    "\n",
    "# Buscando os resultados\n",
    "tables = cursor.fetchall()\n",
    "\n",
    "# Imprimir o nome das tabelas\n",
    "for table in tables:\n",
    "    print(table[0])\n",
    "\n",
    "# Fechar a conexão\n",
    "conn.close()"
   ]
  },
  {
   "cell_type": "markdown",
   "id": "ece2f658",
   "metadata": {},
   "source": [
    "2- No SQLite, realize join das tabelas de cadastro numa única tabela nova."
   ]
  },
  {
   "cell_type": "code",
   "execution_count": 196,
   "id": "8766be2b",
   "metadata": {},
   "outputs": [],
   "source": [
    "# conectando com o banco\n",
    "conn = sqlite3.connect('comerc_infos.db')"
   ]
  },
  {
   "cell_type": "code",
   "execution_count": 197,
   "id": "585dd3bb",
   "metadata": {},
   "outputs": [],
   "source": [
    "# Criando um cursor\n",
    "cursor = conn.cursor()"
   ]
  },
  {
   "cell_type": "code",
   "execution_count": 198,
   "id": "e255f158",
   "metadata": {},
   "outputs": [],
   "source": [
    "# Junção cadastro1 & cadastro2\n",
    "query = \"\"\"SELECT \n",
    "              cadastro1.COD AS COD,\n",
    "              cadastro1.Unidades AS Unidades,\n",
    "              cadastro1.Ponto_SCDE AS Ponto_SCDE,\n",
    "              cadastro2.\"Grupo Econômico\" AS Grupo_Economico,\n",
    "              cadastro2.\"Célula gestor\" AS Celula_Gestor,\n",
    "              cadastro2.Fornecedor AS Fornecedor,\n",
    "              cadastro2.Distribuidora AS Distribuidora\n",
    "            FROM cadastro1\n",
    "            JOIN cadastro2 ON cadastro1.COD = cadastro2.COD;\n",
    "\"\"\""
   ]
  },
  {
   "cell_type": "code",
   "execution_count": 199,
   "id": "896e8af7",
   "metadata": {},
   "outputs": [
    {
     "name": "stdout",
     "output_type": "stream",
     "text": [
      "         COD   Unidades         Ponto_SCDE Grupo_Economico  \\\n",
      "0  000001-02   Unidade1  SPAJIVENTR-01 (L)          GRUPO1   \n",
      "1  000108-15   Unidade6  PBITCPENTR101 (L)          GRUPO4   \n",
      "2  000108-17   Unidade7  RSCMB1ENTR101 (L)          GRUPO4   \n",
      "3  001168-06   Unidade4  SPHAEBENTR101 (L)          GRUPO2   \n",
      "4  001168-08   Unidade5  SPHAVMENTR101 (L)          GRUPO2   \n",
      "5  031060-04   Unidade3  SPFRP1ENTR101 (L)          GRUPO3   \n",
      "6  031060-07   Unidade2  SPFRP2ENTR101 (L)          GRUPO3   \n",
      "7  048168-21   Unidade9  SPTDPIENTR101 (L)          GRUPO6   \n",
      "8  048168-24  Unidade10  SPTDRPENTR101 (L)          GRUPO6   \n",
      "9  097181-01   Unidade8  SPSHTTALADM04 (L)          GRUPO5   \n",
      "\n",
      "                                       Celula_Gestor   Fornecedor  \\\n",
      "0  celula.cps01@comerc.com.br                    ...  Fornecedor3   \n",
      "1  celula.cgc01@comerc.com.br                    ...  Fornecedor1   \n",
      "2  celula.cgc01@comerc.com.br                    ...  Fornecedor3   \n",
      "3  celula.SP02@comerc.com.br                     ...  Fornecedor3   \n",
      "4  celula.SP02@comerc.com.br                     ...  Fornecedor3   \n",
      "5  celula.rp02@comerc.com.br                     ...  Fornecedor3   \n",
      "6  celula.rp02@comerc.com.br                     ...  Fornecedor3   \n",
      "7  celula.SP04@comerc.com.br                     ...  Fornecedor2   \n",
      "8  celula.SP04@comerc.com.br                     ...  Fornecedor2   \n",
      "9  celula.bg01@comerc.com.br                     ...  Fornecedor3   \n",
      "\n",
      "                    Distribuidora  \n",
      "0            CPFL PAULISTA         \n",
      "1            ENERGISA PARAIBA      \n",
      "2            RGE SUL               \n",
      "3  ENEL SP                         \n",
      "4  ENEL SP                         \n",
      "5            CPFL PAULISTA         \n",
      "6            CPFL PAULISTA         \n",
      "7            CPFL PAULISTA         \n",
      "8            CPFL PAULISTA         \n",
      "9  EDP SÃO PAULO                   \n"
     ]
    }
   ],
   "source": [
    "# Obter o resultado da query\n",
    "result_df = pd.read_sql_query(query, conn)\n",
    "print(result_df)"
   ]
  },
  {
   "cell_type": "code",
   "execution_count": 200,
   "id": "d225b2fa",
   "metadata": {},
   "outputs": [],
   "source": [
    "# Salvando o resultado como uma tabela no banco de dados\n",
    "result_df.to_sql(name='cadastro_unificado', con=conn, index=False, if_exists='replace')"
   ]
  },
  {
   "cell_type": "code",
   "execution_count": 201,
   "id": "05a00a45",
   "metadata": {},
   "outputs": [
    {
     "name": "stdout",
     "output_type": "stream",
     "text": [
      "scde\n",
      "cadastro1\n",
      "cadastro2\n",
      "cadastro_unificado\n"
     ]
    }
   ],
   "source": [
    "# Criando um cursor\n",
    "cursor = conn.cursor()\n",
    "\n",
    "# Executar a consulta para obter as tabelas\n",
    "cursor.execute(\"SELECT name FROM sqlite_master WHERE type='table';\")\n",
    "\n",
    "# Buscando os resultados\n",
    "tables = cursor.fetchall()\n",
    "\n",
    "# Imprimir o nome das tabelas\n",
    "for table in tables:\n",
    "    print(table[0])\n",
    "\n",
    "# Fechar a conexão\n",
    "conn.close()"
   ]
  }
 ],
 "metadata": {
  "kernelspec": {
   "display_name": "Python 3",
   "language": "python",
   "name": "python3"
  },
  "language_info": {
   "codemirror_mode": {
    "name": "ipython",
    "version": 3
   },
   "file_extension": ".py",
   "mimetype": "text/x-python",
   "name": "python",
   "nbconvert_exporter": "python",
   "pygments_lexer": "ipython3",
   "version": "3.8.8"
  }
 },
 "nbformat": 4,
 "nbformat_minor": 5
}
